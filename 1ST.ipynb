{
 "cells": [
  {
   "cell_type": "code",
   "execution_count": 4,
   "id": "bdc82cd5-8a84-4095-8333-e8749abda28c",
   "metadata": {},
   "outputs": [],
   "source": [
    "import pandas as pd\n",
    "import plotly.express as px\n",
    "import plotly.graph_objects as go\n",
    "import matplotlib.pyplot as plt\n",
    "import streamlit as st"
   ]
  },
  {
   "cell_type": "code",
   "execution_count": 5,
   "id": "71da0f53-fe43-466d-ae37-39a812373542",
   "metadata": {},
   "outputs": [
    {
     "name": "stdout",
     "output_type": "stream",
     "text": [
      "Overwriting Maint.py\n"
     ]
    }
   ],
   "source": [
    "%%writefile Maint.py\n",
    "import streamlit as st\n",
    "st.set_page_config(layout='wide')\n",
    "import pandas as pd\n",
    "import plotly.express as px\n",
    "import plotly.graph_objects as go\n",
    "import matplotlib.pyplot as plt\n",
    "\n",
    "df = pd.read_excel(r\"C:\\Users\\Opay\\Desktop\\1st\\Maint_project.xlsx\",sheet_name=\"Report\")\n",
    "df['user_id'] = df['user_id'].astype(str)\n",
    "df['SR_id'] = df['SR_id'].astype(str)\n",
    "\n",
    "tab1 , tab2 = st.tabs([\"Report\" , \"Analysis\"])\n",
    "\n",
    "with tab1 :\n",
    "    df\n",
    "\n",
    "with tab2:\n",
    "    custom_colors = {\n",
    "    \"Cairo & Giza\": \"#EF553B\",\n",
    "    \"Delta West\": \"#FFA15A\"}\n",
    "    fig_scatter = px.scatter(data_frame=df,x=\"Count_of_pos\",y=\"Total_Revenue\",color_discrete_sequence=px.colors.qualitative.Set3,\n",
    "    range_y=[0, 50000],color='Region',color_discrete_map=custom_colors)\n",
    "    st.plotly_chart(fig_scatter)\n",
    "\n",
    "    Region = st.selectbox('Select Region',options=df['Region'].unique())\n",
    "    st.write(Region)\n",
    "    s_df = df[df['Region']==Region]\n",
    "    custom_colors = {\n",
    "    \"Inactive\": \"#EF553B\",\n",
    "    \"One Line\": \"#FFA15A\",\n",
    "    \"Two Lines\": \"#B6E880\",\n",
    "    \"Three Lines\": \"#00CC96\"}\n",
    "    \n",
    "    fig_pie = px.pie(\n",
    "    data_frame=s_df,\n",
    "    names=\"Bunsiness_lines\",\n",
    "    facet_col=\"AM\",\n",
    "    color=\"Bunsiness_lines\",\n",
    "    color_discrete_map=custom_colors)\n",
    "    fig_pie.update_traces(textinfo='label+percent+value')\n",
    "\n",
    "    st.plotly_chart(fig_pie)\n",
    "\n",
    "    custom_colors2 = {\n",
    "    \"unUse\": \"#EF553B\",\n",
    "    \"Binding\": \"#00CC96\"}\n",
    "    \n",
    "    fig_pie2 = px.pie(\n",
    "    data_frame=s_df,\n",
    "    names=\"status\",\n",
    "    facet_col=\"AM\",\n",
    "    color=\"status\",\n",
    "    color_discrete_map=custom_colors2)\n",
    "    fig_pie2.update_traces(textinfo='label+percent+value')\n",
    "\n",
    "    st.plotly_chart(fig_pie2)\n",
    "\n",
    "    custom_colors3 = {\n",
    "    \"Inactive\": \"#FF0000\",\n",
    "    \"Low Ach\": \"#FFFF00\",\n",
    "     \"Below Avg\" : \"#FFA500\",\n",
    "      \"Above Avg\":\"#FFFFFF\",\n",
    "        \"Near ach\" : \"#00FFFF\",\n",
    "        \"Achieved\":\"#008000\"}\n",
    "    \n",
    "    fig_pie3 = px.pie(\n",
    "    data_frame=s_df,\n",
    "    names=\"Achieving tiers\",\n",
    "    facet_col=\"AM\",\n",
    "    color=\"Achieving tiers\",\n",
    "    color_discrete_map=custom_colors3)\n",
    "    fig_pie3.update_traces(textinfo='percent+value')\n",
    "\n",
    "    st.plotly_chart(fig_pie3)\n",
    "    \n",
    "    df_melted = df.melt(\n",
    "    id_vars=\"Region\", \n",
    "    value_vars=[\"Excpected pos\", \"User_Exp\"],\n",
    "var_name=\"Client_Soruce\",\n",
    "    value_name=\"Sales\")\n",
    "\n",
    "    fig_bar = px.histogram(\n",
    "    df_melted,\n",
    "    x=\"Region\",\n",
    "    y=\"Sales\",\n",
    "    color=\"Client_Soruce\",\n",
    "    histfunc=\"sum\",\n",
    "    barmode=\"group\"\n",
    ")\n",
    "\n",
    "    \n",
    "\n",
    "    st.plotly_chart(fig_bar)"
   ]
  },
  {
   "cell_type": "code",
   "execution_count": null,
   "id": "de524ef4-562b-431d-a327-2edf4889e592",
   "metadata": {},
   "outputs": [],
   "source": [
    "! streamlit run Maint.py"
   ]
  },
  {
   "cell_type": "code",
   "execution_count": null,
   "id": "e3fad2d8-39d9-4749-889f-77058bc0e329",
   "metadata": {},
   "outputs": [],
   "source": []
  }
 ],
 "metadata": {
  "kernelspec": {
   "display_name": "Python 3 (ipykernel)",
   "language": "python",
   "name": "python3"
  },
  "language_info": {
   "codemirror_mode": {
    "name": "ipython",
    "version": 3
   },
   "file_extension": ".py",
   "mimetype": "text/x-python",
   "name": "python",
   "nbconvert_exporter": "python",
   "pygments_lexer": "ipython3",
   "version": "3.12.0"
  }
 },
 "nbformat": 4,
 "nbformat_minor": 5
}
